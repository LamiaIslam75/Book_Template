{
 "cells": [
  {
   "cell_type": "markdown",
   "metadata": {},
   "source": [
    "# Test-Driven Assessment"
   ]
  },
  {
   "cell_type": "code",
   "execution_count": 1,
   "metadata": {
    "tags": [
     "remove-cell"
    ]
   },
   "outputs": [],
   "source": [
    "def test_leap_year():\n",
    "    assert is_leap_year(1) == False, \"Odd years are not leap years.\"\n",
    "    assert is_leap_year(2002) == False, \"Leap years are divisible by 4.\"\n",
    "    assert is_leap_year(4) == True, \"4 is a leap year.\"\n",
    "    assert is_leap_year(2024) == True, \"2024 is a leap year.\"\n",
    "    assert is_leap_year(400) == True, \"A year divisible by 400 is a leap year.\"\n",
    "    assert is_leap_year(800) == True, \"800 is divisible by 400.\"\n",
    "    assert is_leap_year(1900) == False, \"1900 is no leap year because it is divisible by 4 and by 100 but not also by 400.\""
   ]
  },
  {
   "cell_type": "markdown",
   "metadata": {},
   "source": [
    "Basierend auf Mustern des sogenannten \"Test-Driven Developments\" wird den Lernenden eine Aufgabenstellung gegeben, welche bspw. durch die Programmierung einer Funktion zu lösen ist. Zur Unterstützung und Überprüfung der Lösung werden verschiedene Test-Funktionen genutzt.\n",
    "\n",
    "Diese Test-Funktionen zeigen die Korrektheit der Lösung in einem gewissen Wertebereich oder Nutzungskontext an. Anfangs geben sie Fehlermeldungen aus, welche während der Entwicklung der Lösung nach und nach behoben werden. Die jeweiligen Fehlermeldungen geben dabei Hinweise über die Lösung, ohne sie direkt vorwegzunehmen."
   ]
  },
  {
   "cell_type": "markdown",
   "metadata": {},
   "source": [
    "## Übung: Schaltjahr\n",
    "Entwickeln Sie eine Funktion, die für eine übergebene Jahreszahl ausgibt, ob es sich um ein Schaltjahr handelt oder nicht."
   ]
  },
  {
   "cell_type": "code",
   "execution_count": 2,
   "metadata": {},
   "outputs": [],
   "source": [
    "def is_leap_year(year):\n",
    "    pass"
   ]
  },
  {
   "cell_type": "code",
   "execution_count": 3,
   "metadata": {
    "tags": [
     "remove-input"
    ]
   },
   "outputs": [
    {
     "ename": "AssertionError",
     "evalue": "Odd years are not leap years.",
     "output_type": "error",
     "traceback": [
      "\u001b[0;31m---------------------------------------------------------------------------\u001b[0m",
      "\u001b[0;31mAssertionError\u001b[0m                            Traceback (most recent call last)",
      "Cell \u001b[0;32mIn[3], line 2\u001b[0m\n\u001b[1;32m      1\u001b[0m \u001b[38;5;66;03m# test function\u001b[39;00m\n\u001b[0;32m----> 2\u001b[0m \u001b[43mtest_leap_year\u001b[49m\u001b[43m(\u001b[49m\u001b[43m)\u001b[49m\n",
      "Cell \u001b[0;32mIn[1], line 2\u001b[0m, in \u001b[0;36mtest_leap_year\u001b[0;34m()\u001b[0m\n\u001b[1;32m      1\u001b[0m \u001b[38;5;28;01mdef\u001b[39;00m \u001b[38;5;21mtest_leap_year\u001b[39m():\n\u001b[0;32m----> 2\u001b[0m     \u001b[38;5;28;01massert\u001b[39;00m is_leap_year(\u001b[38;5;241m1\u001b[39m) \u001b[38;5;241m==\u001b[39m \u001b[38;5;28;01mFalse\u001b[39;00m, \u001b[38;5;124m\"\u001b[39m\u001b[38;5;124mOdd years are not leap years.\u001b[39m\u001b[38;5;124m\"\u001b[39m\n\u001b[1;32m      3\u001b[0m     \u001b[38;5;28;01massert\u001b[39;00m is_leap_year(\u001b[38;5;241m2002\u001b[39m) \u001b[38;5;241m==\u001b[39m \u001b[38;5;28;01mFalse\u001b[39;00m, \u001b[38;5;124m\"\u001b[39m\u001b[38;5;124mLeap years are divisible by 4.\u001b[39m\u001b[38;5;124m\"\u001b[39m\n\u001b[1;32m      4\u001b[0m     \u001b[38;5;28;01massert\u001b[39;00m is_leap_year(\u001b[38;5;241m4\u001b[39m) \u001b[38;5;241m==\u001b[39m \u001b[38;5;28;01mTrue\u001b[39;00m, \u001b[38;5;124m\"\u001b[39m\u001b[38;5;124m4 is a leap year.\u001b[39m\u001b[38;5;124m\"\u001b[39m\n",
      "\u001b[0;31mAssertionError\u001b[0m: Odd years are not leap years."
     ]
    }
   ],
   "source": [
    "# test function\n",
    "test_leap_year()"
   ]
  },
  {
   "cell_type": "markdown",
   "metadata": {},
   "source": [
    "````{admonition} Lösung: Schaltjahr\n",
    ":class: dropdown\n",
    "```python\n",
    "def is_leap_year(year):\n",
    "    \"\"\"Return True for leap years, False for non-leap years.\"\"\"\n",
    "    return year % 4 == 0 and (year % 100 != 0 or year % 400 == 0)\n",
    "```\n",
    "````"
   ]
  },
  {
   "cell_type": "markdown",
   "metadata": {},
   "source": []
  }
 ],
 "metadata": {
  "kernelspec": {
   "display_name": "Python 3",
   "language": "python",
   "name": "python3"
  },
  "language_info": {
   "codemirror_mode": {
    "name": "ipython",
    "version": 3
   },
   "file_extension": ".py",
   "mimetype": "text/x-python",
   "name": "python",
   "nbconvert_exporter": "python",
   "pygments_lexer": "ipython3",
   "version": "3.12.3"
  }
 },
 "nbformat": 4,
 "nbformat_minor": 2
}
